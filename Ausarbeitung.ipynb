{
 "cells": [
  {
   "attachments": {},
   "cell_type": "markdown",
   "metadata": {},
   "source": [
    "## **EKG-Anomalieerkennung mithilfe des LSTM Autoencoders**\n"
   ]
  },
  {
   "attachments": {},
   "cell_type": "markdown",
   "metadata": {},
   "source": [
    "### **Vorwort**\n",
    "\n",
    "Dieses Projekt befasst sich mit der Entwicklung eines unüberwachten Modells, das mithilfe eines LSTM-Autoencoders in der Lage ist, normale und abnormale EKG-Signale von einander zu unterscheiden.\n",
    "\n",
    "Die Arbeit ist in fünf Teile gegliedert. Im ersten Teil erfolgt eine kurze theoretische Fundierung zu den Themen Autoencoder und LSTM. Der zweite Teil beschäftigt sich mit der Datenaufbereitung, gefolgt von einer kurzen explorativen Analyse im dritten Teil. Abschließend, welches auch den Kern dieser Arbeit wiederspiegelt, befasst sich mit der Modellentwicklung und dessen Evaluierung und Beurteilung.\n",
    "\n",
    "Bevor wir aber mit der Arbeit beginnen, werden wir hier zunächst die benötigten Python-Bibliotheken importieren."
   ]
  },
  {
   "cell_type": "code",
   "execution_count": 227,
   "metadata": {},
   "outputs": [],
   "source": [
    "# Data Science Module\n",
    "import numpy as np\n",
    "import pandas as pd\n",
    "import matplotlib.pyplot as plt\n",
    "\n",
    "from sklearn.metrics import classification_report\n",
    "from sklearn.preprocessing import MinMaxScaler\n",
    "\n",
    "# Deep Learning Module\n",
    "from keras.layers import Input, LSTM, RepeatVector\n",
    "from keras.models import Model\n",
    "\n",
    "# Bilder importieren\n",
    "from IPython.display import HTML\n",
    "\n",
    "# Mögliche Warnings ignorieren\n",
    "import warnings\n",
    "warnings.filterwarnings(\"ignore\")"
   ]
  },
  {
   "attachments": {},
   "cell_type": "markdown",
   "metadata": {},
   "source": [
    "### **1. Theoretische Fundierung**"
   ]
  },
  {
   "attachments": {},
   "cell_type": "markdown",
   "metadata": {},
   "source": [
    "### **1.1. RNNs und LSTM**"
   ]
  },
  {
   "attachments": {},
   "cell_type": "markdown",
   "metadata": {},
   "source": [
    "Rekurrente Neuronale Netze oder kurz RNNs, sind Neuronale Netze, die für die Verarbeitung von **sequentiellen Daten** wie Texten, Zeitreihen oder auch Sprachen verwendet werden können. \n",
    "\n",
    "Hier nochmal ein einfaches neuronales Netzwerk mit einer Eingabeschicht, einer versteckten Schicht und einer Ausgabeschicht: \n",
    "\n",
    "<img src=\"./images/NN.png\" width=\"250\">\n",
    "\n",
    "Im Gegensatz zu solchen \"gewöhnlichen\" neuronalen Netzen, die nur einzelne Eingaben verarbeiten, können RNNs die vorherigen Ausgaben als zusätzliche Eingaben nutzen, um Entscheidungen auf Basis der gesamten Sequenz zu treffen. Ein RNN besteht aus einer Schleife, die es ihm ermöglicht, seine internen Zustände zu aktualisieren und Informationen aus der Vergangenheit zu behalten [7].\n",
    "\n",
    "<img src=\"./images/RNN.png\" width=\"150\">\n",
    "\n",
    " Diese Schleife erlaubt es dem Netzwerk, seine Ausgabe für einen bestimmten Zeitschritt nicht nur von der aktuellen Eingabe, sondern auch von seinem internen Zustand abhängig zu machen, der aufgrund der vorherigen Eingaben berechnet wurde. Dies bedeutet, dass das Netzwerk in der Lage ist, auf die Abfolge der Inputs zu reagieren und den Kontext der Eingabe zu verstehen. RNNs haben somit die Fähigkeit, sich an frühere Informationen zu erinnern!\n",
    "\n",
    "Es gibt jedoch ein Problem des verschwindenden oder explodierenden Gradienten, auf welches wir hier nicht weiter eingehen werden, doch dies führt zu, dass das RNN nicht in der Lage ist, komplexe Sequenzen zu erlernen und falsche Ergebnisse liefert. \n",
    "\n",
    "**Um dieses Problem zu beheben verwenden wir das sogenannte LSTM-Modell (Long Short-Term Memory).**\n",
    "\n",
    "<img src=\"./images/LSTM.png\" width=\"450\">"
   ]
  },
  {
   "attachments": {},
   "cell_type": "markdown",
   "metadata": {},
   "source": [
    "### **1.2. Autoencoder**"
   ]
  },
  {
   "attachments": {},
   "cell_type": "markdown",
   "metadata": {},
   "source": [
    "Ein Autoencoder ist ein Algorithmus aus dem unüberwachtem Lernen, der zur Dimensionalitätsreduktion oder zum Entfernen von Rauschen in Daten verwendet wird. Es besteht aus zwei Teilen: dem Encoder und dem Decoder. Der Encoder reduziert die Eingabe in einen niedrigerdimensionalen Vektor, und der Decoder rekonstruiert die ursprüngliche Eingabe aus diesem Vektor. Während des Trainings wird das Netzwerk so eingestellt, dass die Differenz zwischen der Eingabe und der rekonstruierten Ausgabe minimiert wird.\n",
    "\n",
    "Autoencoder werden oft zur Anomalieerkennung eingesetzt, da sie in der Lage sind, die normalen Muster in den Daten zu erfassen und Abweichungen von diesen Mustern zu erkennen. Wenn ein ungewöhnlicher Datenpunkt in das Netzwerk eingespeist wird, kann der Decoder den Punkt nicht so genau rekonstruieren, was auf eine Anomalie hinweist.\n",
    "\n",
    "\n",
    "<img src=\"./images/autoencoder.png\" width=\"350\">"
   ]
  },
  {
   "attachments": {},
   "cell_type": "markdown",
   "metadata": {},
   "source": [
    "LSTMs und Autoencoder eignen sich somit hervorragend für die Anomalieerkennung, da sie beide auf sequentiellen Daten arbeiten können. LSTMs sind in der Lage, langfristige Abhängigkeiten in Zeitreihen zu modellieren, während Autoencoder in der Lage sind, Muster und Merkmale aus den Daten zu extrahieren. Durch die Kombination von Autoencoder und LSTM können somit anomale Muster in den Daten auf einer höheren Abstraktionsebene erkannt werden, was zu einer höheren Erkennungsgenauigkeit führt.\n",
    "\n",
    "In einem solchen **hybriden Modell** werden die Eingabedaten von einem Autoencoder komprimiert und in einen niedrigerdimensionalen Vektor transformiert. Der LSTM verwendet diesen Vektor als Eingabe, um den nächsten Zustand in der Sequenz vorherzusagen. Wenn der LSTM einen ungewöhnlichen Zustand in der Eingabesequenz erkennt, kann dies darauf hinweisen, dass eine Anomalie vorliegt. Der Autoencoder kann dann verwendet werden, um die anomale Stelle in den Daten zu lokalisieren und den Grad der Abweichung von den normalen Mustern zu quantifizieren."
   ]
  },
  {
   "attachments": {},
   "cell_type": "markdown",
   "metadata": {},
   "source": [
    "### **2. Datenaufbereitung**"
   ]
  },
  {
   "attachments": {},
   "cell_type": "markdown",
   "metadata": {},
   "source": [
    "Der folgende Datensatz enthält die EKG-Aufzeichnungen von Patienten [1]. Dabei entspricht jede Zeile bzw. Beobachtung einem vollständigen EKG eines Patienten. Jedes einzelne EKG umfasst dabei 140 Messwerte. Die Spalten 0 bis 139 enthalten die EKG-Datenpunkte für einen bestimmten Patienten. Die letzte Spalte ist eine kategorische Variable mit dem Wert 0 oder 1 und ist ein binärer Indikator dafür, ob das EKG als ein normales oder abnormales Signal ist."
   ]
  },
  {
   "cell_type": "code",
   "execution_count": 228,
   "metadata": {},
   "outputs": [
    {
     "data": {
      "text/html": [
       "<div>\n",
       "<style scoped>\n",
       "    .dataframe tbody tr th:only-of-type {\n",
       "        vertical-align: middle;\n",
       "    }\n",
       "\n",
       "    .dataframe tbody tr th {\n",
       "        vertical-align: top;\n",
       "    }\n",
       "\n",
       "    .dataframe thead th {\n",
       "        text-align: right;\n",
       "    }\n",
       "</style>\n",
       "<table border=\"1\" class=\"dataframe\">\n",
       "  <thead>\n",
       "    <tr style=\"text-align: right;\">\n",
       "      <th></th>\n",
       "      <th>Messung 1</th>\n",
       "      <th>Messung 2</th>\n",
       "      <th>Messung 3</th>\n",
       "      <th>Messung 4</th>\n",
       "      <th>Messung 5</th>\n",
       "      <th>Messung 6</th>\n",
       "      <th>Messung 7</th>\n",
       "      <th>Messung 8</th>\n",
       "      <th>Messung 9</th>\n",
       "      <th>Messung 10</th>\n",
       "      <th>...</th>\n",
       "      <th>Messung 132</th>\n",
       "      <th>Messung 133</th>\n",
       "      <th>Messung 134</th>\n",
       "      <th>Messung 135</th>\n",
       "      <th>Messung 136</th>\n",
       "      <th>Messung 137</th>\n",
       "      <th>Messung 138</th>\n",
       "      <th>Messung 139</th>\n",
       "      <th>Messung 140</th>\n",
       "      <th>Beschriftung</th>\n",
       "    </tr>\n",
       "  </thead>\n",
       "  <tbody>\n",
       "    <tr>\n",
       "      <th>0</th>\n",
       "      <td>-0.112522</td>\n",
       "      <td>-2.827204</td>\n",
       "      <td>-3.773897</td>\n",
       "      <td>-4.349751</td>\n",
       "      <td>-4.376041</td>\n",
       "      <td>-3.474986</td>\n",
       "      <td>-2.181408</td>\n",
       "      <td>-1.818286</td>\n",
       "      <td>-1.250522</td>\n",
       "      <td>-0.477492</td>\n",
       "      <td>...</td>\n",
       "      <td>0.792168</td>\n",
       "      <td>0.933541</td>\n",
       "      <td>0.796958</td>\n",
       "      <td>0.578621</td>\n",
       "      <td>0.257740</td>\n",
       "      <td>0.228077</td>\n",
       "      <td>0.123431</td>\n",
       "      <td>0.925286</td>\n",
       "      <td>0.193137</td>\n",
       "      <td>1.0</td>\n",
       "    </tr>\n",
       "    <tr>\n",
       "      <th>1</th>\n",
       "      <td>-1.100878</td>\n",
       "      <td>-3.996840</td>\n",
       "      <td>-4.285843</td>\n",
       "      <td>-4.506579</td>\n",
       "      <td>-4.022377</td>\n",
       "      <td>-3.234368</td>\n",
       "      <td>-1.566126</td>\n",
       "      <td>-0.992258</td>\n",
       "      <td>-0.754680</td>\n",
       "      <td>0.042321</td>\n",
       "      <td>...</td>\n",
       "      <td>0.538356</td>\n",
       "      <td>0.656881</td>\n",
       "      <td>0.787490</td>\n",
       "      <td>0.724046</td>\n",
       "      <td>0.555784</td>\n",
       "      <td>0.476333</td>\n",
       "      <td>0.773820</td>\n",
       "      <td>1.119621</td>\n",
       "      <td>-1.436250</td>\n",
       "      <td>1.0</td>\n",
       "    </tr>\n",
       "    <tr>\n",
       "      <th>2</th>\n",
       "      <td>-0.567088</td>\n",
       "      <td>-2.593450</td>\n",
       "      <td>-3.874230</td>\n",
       "      <td>-4.584095</td>\n",
       "      <td>-4.187449</td>\n",
       "      <td>-3.151462</td>\n",
       "      <td>-1.742940</td>\n",
       "      <td>-1.490659</td>\n",
       "      <td>-1.183580</td>\n",
       "      <td>-0.394229</td>\n",
       "      <td>...</td>\n",
       "      <td>0.886073</td>\n",
       "      <td>0.531452</td>\n",
       "      <td>0.311377</td>\n",
       "      <td>-0.021919</td>\n",
       "      <td>-0.713683</td>\n",
       "      <td>-0.532197</td>\n",
       "      <td>0.321097</td>\n",
       "      <td>0.904227</td>\n",
       "      <td>-0.421797</td>\n",
       "      <td>1.0</td>\n",
       "    </tr>\n",
       "    <tr>\n",
       "      <th>3</th>\n",
       "      <td>0.490473</td>\n",
       "      <td>-1.914407</td>\n",
       "      <td>-3.616364</td>\n",
       "      <td>-4.318823</td>\n",
       "      <td>-4.268016</td>\n",
       "      <td>-3.881110</td>\n",
       "      <td>-2.993280</td>\n",
       "      <td>-1.671131</td>\n",
       "      <td>-1.333884</td>\n",
       "      <td>-0.965629</td>\n",
       "      <td>...</td>\n",
       "      <td>0.350816</td>\n",
       "      <td>0.499111</td>\n",
       "      <td>0.600345</td>\n",
       "      <td>0.842069</td>\n",
       "      <td>0.952074</td>\n",
       "      <td>0.990133</td>\n",
       "      <td>1.086798</td>\n",
       "      <td>1.403011</td>\n",
       "      <td>-0.383564</td>\n",
       "      <td>1.0</td>\n",
       "    </tr>\n",
       "    <tr>\n",
       "      <th>4</th>\n",
       "      <td>0.800232</td>\n",
       "      <td>-0.874252</td>\n",
       "      <td>-2.384761</td>\n",
       "      <td>-3.973292</td>\n",
       "      <td>-4.338224</td>\n",
       "      <td>-3.802422</td>\n",
       "      <td>-2.534510</td>\n",
       "      <td>-1.783423</td>\n",
       "      <td>-1.594450</td>\n",
       "      <td>-0.753199</td>\n",
       "      <td>...</td>\n",
       "      <td>1.148884</td>\n",
       "      <td>0.958434</td>\n",
       "      <td>1.059025</td>\n",
       "      <td>1.371682</td>\n",
       "      <td>1.277392</td>\n",
       "      <td>0.960304</td>\n",
       "      <td>0.971020</td>\n",
       "      <td>1.614392</td>\n",
       "      <td>1.421456</td>\n",
       "      <td>1.0</td>\n",
       "    </tr>\n",
       "  </tbody>\n",
       "</table>\n",
       "<p>5 rows × 141 columns</p>\n",
       "</div>"
      ],
      "text/plain": [
       "   Messung 1  Messung 2  Messung 3  Messung 4  Messung 5  Messung 6  \\\n",
       "0  -0.112522  -2.827204  -3.773897  -4.349751  -4.376041  -3.474986   \n",
       "1  -1.100878  -3.996840  -4.285843  -4.506579  -4.022377  -3.234368   \n",
       "2  -0.567088  -2.593450  -3.874230  -4.584095  -4.187449  -3.151462   \n",
       "3   0.490473  -1.914407  -3.616364  -4.318823  -4.268016  -3.881110   \n",
       "4   0.800232  -0.874252  -2.384761  -3.973292  -4.338224  -3.802422   \n",
       "\n",
       "   Messung 7  Messung 8  Messung 9  Messung 10  ...  Messung 132  Messung 133  \\\n",
       "0  -2.181408  -1.818286  -1.250522   -0.477492  ...     0.792168     0.933541   \n",
       "1  -1.566126  -0.992258  -0.754680    0.042321  ...     0.538356     0.656881   \n",
       "2  -1.742940  -1.490659  -1.183580   -0.394229  ...     0.886073     0.531452   \n",
       "3  -2.993280  -1.671131  -1.333884   -0.965629  ...     0.350816     0.499111   \n",
       "4  -2.534510  -1.783423  -1.594450   -0.753199  ...     1.148884     0.958434   \n",
       "\n",
       "   Messung 134  Messung 135  Messung 136  Messung 137  Messung 138  \\\n",
       "0     0.796958     0.578621     0.257740     0.228077     0.123431   \n",
       "1     0.787490     0.724046     0.555784     0.476333     0.773820   \n",
       "2     0.311377    -0.021919    -0.713683    -0.532197     0.321097   \n",
       "3     0.600345     0.842069     0.952074     0.990133     1.086798   \n",
       "4     1.059025     1.371682     1.277392     0.960304     0.971020   \n",
       "\n",
       "   Messung 139  Messung 140  Beschriftung  \n",
       "0     0.925286     0.193137           1.0  \n",
       "1     1.119621    -1.436250           1.0  \n",
       "2     0.904227    -0.421797           1.0  \n",
       "3     1.403011    -0.383564           1.0  \n",
       "4     1.614392     1.421456           1.0  \n",
       "\n",
       "[5 rows x 141 columns]"
      ]
     },
     "execution_count": 228,
     "metadata": {},
     "output_type": "execute_result"
    }
   ],
   "source": [
    "df = pd.read_csv('data/ecg.csv', header = None)\n",
    "df.rename(columns={df.columns[140]: 'Beschriftung'}, inplace=True)\n",
    "new_column_names = {i: f\"Messung {i+1}\" for i in range(140)}\n",
    "df = df.rename(columns=new_column_names)\n",
    "df.head()"
   ]
  },
  {
   "attachments": {},
   "cell_type": "markdown",
   "metadata": {},
   "source": [
    "Die CSV-Datei beinhaltet 4998 Zeilen und 141 Spalten, welches man mit Hilfe des Shape Befehls entnehmen kann."
   ]
  },
  {
   "cell_type": "code",
   "execution_count": 229,
   "metadata": {},
   "outputs": [
    {
     "name": "stdout",
     "output_type": "stream",
     "text": [
      "(4998, 141)\n"
     ]
    }
   ],
   "source": [
    "print(df.shape)"
   ]
  },
  {
   "cell_type": "code",
   "execution_count": 230,
   "metadata": {},
   "outputs": [],
   "source": [
    "# Gruppiere die Daten nach der Beschriftungsspalte\n",
    "groups = df.groupby('Beschriftung')\n",
    "# Teile die Daten in normale und anomale Datensätze auf\n",
    "normal_data = groups.get_group(1)\n",
    "anomalous_data = groups.get_group(0)"
   ]
  },
  {
   "cell_type": "code",
   "execution_count": 231,
   "metadata": {},
   "outputs": [
    {
     "data": {
      "text/html": [
       "<div>\n",
       "<style scoped>\n",
       "    .dataframe tbody tr th:only-of-type {\n",
       "        vertical-align: middle;\n",
       "    }\n",
       "\n",
       "    .dataframe tbody tr th {\n",
       "        vertical-align: top;\n",
       "    }\n",
       "\n",
       "    .dataframe thead th {\n",
       "        text-align: right;\n",
       "    }\n",
       "</style>\n",
       "<table border=\"1\" class=\"dataframe\">\n",
       "  <thead>\n",
       "    <tr style=\"text-align: right;\">\n",
       "      <th></th>\n",
       "      <th>Messung 1</th>\n",
       "      <th>Messung 2</th>\n",
       "      <th>Messung 3</th>\n",
       "      <th>Messung 4</th>\n",
       "      <th>Messung 5</th>\n",
       "      <th>Messung 6</th>\n",
       "      <th>Messung 7</th>\n",
       "      <th>Messung 8</th>\n",
       "      <th>Messung 9</th>\n",
       "      <th>Messung 10</th>\n",
       "      <th>...</th>\n",
       "      <th>Messung 131</th>\n",
       "      <th>Messung 132</th>\n",
       "      <th>Messung 133</th>\n",
       "      <th>Messung 134</th>\n",
       "      <th>Messung 135</th>\n",
       "      <th>Messung 136</th>\n",
       "      <th>Messung 137</th>\n",
       "      <th>Messung 138</th>\n",
       "      <th>Messung 139</th>\n",
       "      <th>Messung 140</th>\n",
       "    </tr>\n",
       "  </thead>\n",
       "  <tbody>\n",
       "    <tr>\n",
       "      <th>0</th>\n",
       "      <td>-0.112522</td>\n",
       "      <td>-2.827204</td>\n",
       "      <td>-3.773897</td>\n",
       "      <td>-4.349751</td>\n",
       "      <td>-4.376041</td>\n",
       "      <td>-3.474986</td>\n",
       "      <td>-2.181408</td>\n",
       "      <td>-1.818286</td>\n",
       "      <td>-1.250522</td>\n",
       "      <td>-0.477492</td>\n",
       "      <td>...</td>\n",
       "      <td>0.160348</td>\n",
       "      <td>0.792168</td>\n",
       "      <td>0.933541</td>\n",
       "      <td>0.796958</td>\n",
       "      <td>0.578621</td>\n",
       "      <td>0.257740</td>\n",
       "      <td>0.228077</td>\n",
       "      <td>0.123431</td>\n",
       "      <td>0.925286</td>\n",
       "      <td>0.193137</td>\n",
       "    </tr>\n",
       "    <tr>\n",
       "      <th>1</th>\n",
       "      <td>-1.100878</td>\n",
       "      <td>-3.996840</td>\n",
       "      <td>-4.285843</td>\n",
       "      <td>-4.506579</td>\n",
       "      <td>-4.022377</td>\n",
       "      <td>-3.234368</td>\n",
       "      <td>-1.566126</td>\n",
       "      <td>-0.992258</td>\n",
       "      <td>-0.754680</td>\n",
       "      <td>0.042321</td>\n",
       "      <td>...</td>\n",
       "      <td>0.560327</td>\n",
       "      <td>0.538356</td>\n",
       "      <td>0.656881</td>\n",
       "      <td>0.787490</td>\n",
       "      <td>0.724046</td>\n",
       "      <td>0.555784</td>\n",
       "      <td>0.476333</td>\n",
       "      <td>0.773820</td>\n",
       "      <td>1.119621</td>\n",
       "      <td>-1.436250</td>\n",
       "    </tr>\n",
       "    <tr>\n",
       "      <th>2</th>\n",
       "      <td>-0.567088</td>\n",
       "      <td>-2.593450</td>\n",
       "      <td>-3.874230</td>\n",
       "      <td>-4.584095</td>\n",
       "      <td>-4.187449</td>\n",
       "      <td>-3.151462</td>\n",
       "      <td>-1.742940</td>\n",
       "      <td>-1.490659</td>\n",
       "      <td>-1.183580</td>\n",
       "      <td>-0.394229</td>\n",
       "      <td>...</td>\n",
       "      <td>1.284825</td>\n",
       "      <td>0.886073</td>\n",
       "      <td>0.531452</td>\n",
       "      <td>0.311377</td>\n",
       "      <td>-0.021919</td>\n",
       "      <td>-0.713683</td>\n",
       "      <td>-0.532197</td>\n",
       "      <td>0.321097</td>\n",
       "      <td>0.904227</td>\n",
       "      <td>-0.421797</td>\n",
       "    </tr>\n",
       "    <tr>\n",
       "      <th>3</th>\n",
       "      <td>0.490473</td>\n",
       "      <td>-1.914407</td>\n",
       "      <td>-3.616364</td>\n",
       "      <td>-4.318823</td>\n",
       "      <td>-4.268016</td>\n",
       "      <td>-3.881110</td>\n",
       "      <td>-2.993280</td>\n",
       "      <td>-1.671131</td>\n",
       "      <td>-1.333884</td>\n",
       "      <td>-0.965629</td>\n",
       "      <td>...</td>\n",
       "      <td>0.491173</td>\n",
       "      <td>0.350816</td>\n",
       "      <td>0.499111</td>\n",
       "      <td>0.600345</td>\n",
       "      <td>0.842069</td>\n",
       "      <td>0.952074</td>\n",
       "      <td>0.990133</td>\n",
       "      <td>1.086798</td>\n",
       "      <td>1.403011</td>\n",
       "      <td>-0.383564</td>\n",
       "    </tr>\n",
       "    <tr>\n",
       "      <th>4</th>\n",
       "      <td>0.800232</td>\n",
       "      <td>-0.874252</td>\n",
       "      <td>-2.384761</td>\n",
       "      <td>-3.973292</td>\n",
       "      <td>-4.338224</td>\n",
       "      <td>-3.802422</td>\n",
       "      <td>-2.534510</td>\n",
       "      <td>-1.783423</td>\n",
       "      <td>-1.594450</td>\n",
       "      <td>-0.753199</td>\n",
       "      <td>...</td>\n",
       "      <td>0.966606</td>\n",
       "      <td>1.148884</td>\n",
       "      <td>0.958434</td>\n",
       "      <td>1.059025</td>\n",
       "      <td>1.371682</td>\n",
       "      <td>1.277392</td>\n",
       "      <td>0.960304</td>\n",
       "      <td>0.971020</td>\n",
       "      <td>1.614392</td>\n",
       "      <td>1.421456</td>\n",
       "    </tr>\n",
       "  </tbody>\n",
       "</table>\n",
       "<p>5 rows × 140 columns</p>\n",
       "</div>"
      ],
      "text/plain": [
       "   Messung 1  Messung 2  Messung 3  Messung 4  Messung 5  Messung 6  \\\n",
       "0  -0.112522  -2.827204  -3.773897  -4.349751  -4.376041  -3.474986   \n",
       "1  -1.100878  -3.996840  -4.285843  -4.506579  -4.022377  -3.234368   \n",
       "2  -0.567088  -2.593450  -3.874230  -4.584095  -4.187449  -3.151462   \n",
       "3   0.490473  -1.914407  -3.616364  -4.318823  -4.268016  -3.881110   \n",
       "4   0.800232  -0.874252  -2.384761  -3.973292  -4.338224  -3.802422   \n",
       "\n",
       "   Messung 7  Messung 8  Messung 9  Messung 10  ...  Messung 131  Messung 132  \\\n",
       "0  -2.181408  -1.818286  -1.250522   -0.477492  ...     0.160348     0.792168   \n",
       "1  -1.566126  -0.992258  -0.754680    0.042321  ...     0.560327     0.538356   \n",
       "2  -1.742940  -1.490659  -1.183580   -0.394229  ...     1.284825     0.886073   \n",
       "3  -2.993280  -1.671131  -1.333884   -0.965629  ...     0.491173     0.350816   \n",
       "4  -2.534510  -1.783423  -1.594450   -0.753199  ...     0.966606     1.148884   \n",
       "\n",
       "   Messung 133  Messung 134  Messung 135  Messung 136  Messung 137  \\\n",
       "0     0.933541     0.796958     0.578621     0.257740     0.228077   \n",
       "1     0.656881     0.787490     0.724046     0.555784     0.476333   \n",
       "2     0.531452     0.311377    -0.021919    -0.713683    -0.532197   \n",
       "3     0.499111     0.600345     0.842069     0.952074     0.990133   \n",
       "4     0.958434     1.059025     1.371682     1.277392     0.960304   \n",
       "\n",
       "   Messung 138  Messung 139  Messung 140  \n",
       "0     0.123431     0.925286     0.193137  \n",
       "1     0.773820     1.119621    -1.436250  \n",
       "2     0.321097     0.904227    -0.421797  \n",
       "3     1.086798     1.403011    -0.383564  \n",
       "4     0.971020     1.614392     1.421456  \n",
       "\n",
       "[5 rows x 140 columns]"
      ]
     },
     "execution_count": 231,
     "metadata": {},
     "output_type": "execute_result"
    }
   ],
   "source": [
    "normal_data = df[df['Beschriftung'] == 1].drop('Beschriftung', axis=1)\n",
    "normal_data.head()"
   ]
  },
  {
   "cell_type": "code",
   "execution_count": 232,
   "metadata": {},
   "outputs": [
    {
     "data": {
      "text/plain": [
       "(2919, 140)"
      ]
     },
     "execution_count": 232,
     "metadata": {},
     "output_type": "execute_result"
    }
   ],
   "source": [
    "normal_data.shape"
   ]
  },
  {
   "cell_type": "code",
   "execution_count": 233,
   "metadata": {},
   "outputs": [
    {
     "data": {
      "text/html": [
       "<div>\n",
       "<style scoped>\n",
       "    .dataframe tbody tr th:only-of-type {\n",
       "        vertical-align: middle;\n",
       "    }\n",
       "\n",
       "    .dataframe tbody tr th {\n",
       "        vertical-align: top;\n",
       "    }\n",
       "\n",
       "    .dataframe thead th {\n",
       "        text-align: right;\n",
       "    }\n",
       "</style>\n",
       "<table border=\"1\" class=\"dataframe\">\n",
       "  <thead>\n",
       "    <tr style=\"text-align: right;\">\n",
       "      <th></th>\n",
       "      <th>Messung 1</th>\n",
       "      <th>Messung 2</th>\n",
       "      <th>Messung 3</th>\n",
       "      <th>Messung 4</th>\n",
       "      <th>Messung 5</th>\n",
       "      <th>Messung 6</th>\n",
       "      <th>Messung 7</th>\n",
       "      <th>Messung 8</th>\n",
       "      <th>Messung 9</th>\n",
       "      <th>Messung 10</th>\n",
       "      <th>...</th>\n",
       "      <th>Messung 131</th>\n",
       "      <th>Messung 132</th>\n",
       "      <th>Messung 133</th>\n",
       "      <th>Messung 134</th>\n",
       "      <th>Messung 135</th>\n",
       "      <th>Messung 136</th>\n",
       "      <th>Messung 137</th>\n",
       "      <th>Messung 138</th>\n",
       "      <th>Messung 139</th>\n",
       "      <th>Messung 140</th>\n",
       "    </tr>\n",
       "  </thead>\n",
       "  <tbody>\n",
       "    <tr>\n",
       "      <th>292</th>\n",
       "      <td>-0.032245</td>\n",
       "      <td>-0.545050</td>\n",
       "      <td>-0.822340</td>\n",
       "      <td>-1.605085</td>\n",
       "      <td>-1.805775</td>\n",
       "      <td>-2.008067</td>\n",
       "      <td>-2.233975</td>\n",
       "      <td>-2.191458</td>\n",
       "      <td>-2.058071</td>\n",
       "      <td>-1.880849</td>\n",
       "      <td>...</td>\n",
       "      <td>-0.906425</td>\n",
       "      <td>-1.621376</td>\n",
       "      <td>-2.329090</td>\n",
       "      <td>-3.049894</td>\n",
       "      <td>-3.620413</td>\n",
       "      <td>-4.210482</td>\n",
       "      <td>-4.043785</td>\n",
       "      <td>-3.051813</td>\n",
       "      <td>-2.806866</td>\n",
       "      <td>-0.879666</td>\n",
       "    </tr>\n",
       "    <tr>\n",
       "      <th>293</th>\n",
       "      <td>-0.003377</td>\n",
       "      <td>-0.279265</td>\n",
       "      <td>-0.230519</td>\n",
       "      <td>-0.635978</td>\n",
       "      <td>-0.894795</td>\n",
       "      <td>-1.023105</td>\n",
       "      <td>-1.243738</td>\n",
       "      <td>-1.458372</td>\n",
       "      <td>-1.677896</td>\n",
       "      <td>-1.784530</td>\n",
       "      <td>...</td>\n",
       "      <td>-2.155969</td>\n",
       "      <td>-2.640508</td>\n",
       "      <td>-3.218384</td>\n",
       "      <td>-3.651630</td>\n",
       "      <td>-3.881198</td>\n",
       "      <td>-3.924672</td>\n",
       "      <td>-3.164390</td>\n",
       "      <td>-2.228373</td>\n",
       "      <td>-1.837544</td>\n",
       "      <td>-0.378489</td>\n",
       "    </tr>\n",
       "    <tr>\n",
       "      <th>294</th>\n",
       "      <td>0.195989</td>\n",
       "      <td>-0.222258</td>\n",
       "      <td>-0.754773</td>\n",
       "      <td>-1.415614</td>\n",
       "      <td>-1.775851</td>\n",
       "      <td>-2.162326</td>\n",
       "      <td>-2.467492</td>\n",
       "      <td>-2.331384</td>\n",
       "      <td>-1.993476</td>\n",
       "      <td>-1.611709</td>\n",
       "      <td>...</td>\n",
       "      <td>-0.162438</td>\n",
       "      <td>-0.935030</td>\n",
       "      <td>-1.654340</td>\n",
       "      <td>-2.434240</td>\n",
       "      <td>-3.472170</td>\n",
       "      <td>-4.280780</td>\n",
       "      <td>-4.629438</td>\n",
       "      <td>-3.794192</td>\n",
       "      <td>-2.851468</td>\n",
       "      <td>-1.743521</td>\n",
       "    </tr>\n",
       "    <tr>\n",
       "      <th>295</th>\n",
       "      <td>0.894867</td>\n",
       "      <td>-0.003822</td>\n",
       "      <td>-0.751052</td>\n",
       "      <td>-1.396543</td>\n",
       "      <td>-1.737838</td>\n",
       "      <td>-2.113020</td>\n",
       "      <td>-2.213210</td>\n",
       "      <td>-2.203347</td>\n",
       "      <td>-2.024191</td>\n",
       "      <td>-1.591458</td>\n",
       "      <td>...</td>\n",
       "      <td>-0.899746</td>\n",
       "      <td>-1.441516</td>\n",
       "      <td>-1.861612</td>\n",
       "      <td>-2.321381</td>\n",
       "      <td>-2.884877</td>\n",
       "      <td>-3.530246</td>\n",
       "      <td>-4.412515</td>\n",
       "      <td>-3.903331</td>\n",
       "      <td>-3.567106</td>\n",
       "      <td>-1.536338</td>\n",
       "    </tr>\n",
       "    <tr>\n",
       "      <th>296</th>\n",
       "      <td>1.250060</td>\n",
       "      <td>0.760800</td>\n",
       "      <td>0.042925</td>\n",
       "      <td>-0.627974</td>\n",
       "      <td>-0.963454</td>\n",
       "      <td>-1.261335</td>\n",
       "      <td>-1.652440</td>\n",
       "      <td>-1.888433</td>\n",
       "      <td>-1.935217</td>\n",
       "      <td>-1.808429</td>\n",
       "      <td>...</td>\n",
       "      <td>-0.695282</td>\n",
       "      <td>-0.979223</td>\n",
       "      <td>-1.353969</td>\n",
       "      <td>-1.952051</td>\n",
       "      <td>-2.640386</td>\n",
       "      <td>-3.000281</td>\n",
       "      <td>-3.812490</td>\n",
       "      <td>-3.973360</td>\n",
       "      <td>-5.221946</td>\n",
       "      <td>-3.661793</td>\n",
       "    </tr>\n",
       "  </tbody>\n",
       "</table>\n",
       "<p>5 rows × 140 columns</p>\n",
       "</div>"
      ],
      "text/plain": [
       "     Messung 1  Messung 2  Messung 3  Messung 4  Messung 5  Messung 6  \\\n",
       "292  -0.032245  -0.545050  -0.822340  -1.605085  -1.805775  -2.008067   \n",
       "293  -0.003377  -0.279265  -0.230519  -0.635978  -0.894795  -1.023105   \n",
       "294   0.195989  -0.222258  -0.754773  -1.415614  -1.775851  -2.162326   \n",
       "295   0.894867  -0.003822  -0.751052  -1.396543  -1.737838  -2.113020   \n",
       "296   1.250060   0.760800   0.042925  -0.627974  -0.963454  -1.261335   \n",
       "\n",
       "     Messung 7  Messung 8  Messung 9  Messung 10  ...  Messung 131  \\\n",
       "292  -2.233975  -2.191458  -2.058071   -1.880849  ...    -0.906425   \n",
       "293  -1.243738  -1.458372  -1.677896   -1.784530  ...    -2.155969   \n",
       "294  -2.467492  -2.331384  -1.993476   -1.611709  ...    -0.162438   \n",
       "295  -2.213210  -2.203347  -2.024191   -1.591458  ...    -0.899746   \n",
       "296  -1.652440  -1.888433  -1.935217   -1.808429  ...    -0.695282   \n",
       "\n",
       "     Messung 132  Messung 133  Messung 134  Messung 135  Messung 136  \\\n",
       "292    -1.621376    -2.329090    -3.049894    -3.620413    -4.210482   \n",
       "293    -2.640508    -3.218384    -3.651630    -3.881198    -3.924672   \n",
       "294    -0.935030    -1.654340    -2.434240    -3.472170    -4.280780   \n",
       "295    -1.441516    -1.861612    -2.321381    -2.884877    -3.530246   \n",
       "296    -0.979223    -1.353969    -1.952051    -2.640386    -3.000281   \n",
       "\n",
       "     Messung 137  Messung 138  Messung 139  Messung 140  \n",
       "292    -4.043785    -3.051813    -2.806866    -0.879666  \n",
       "293    -3.164390    -2.228373    -1.837544    -0.378489  \n",
       "294    -4.629438    -3.794192    -2.851468    -1.743521  \n",
       "295    -4.412515    -3.903331    -3.567106    -1.536338  \n",
       "296    -3.812490    -3.973360    -5.221946    -3.661793  \n",
       "\n",
       "[5 rows x 140 columns]"
      ]
     },
     "execution_count": 233,
     "metadata": {},
     "output_type": "execute_result"
    }
   ],
   "source": [
    "anomalous_data = df[df['Beschriftung'] == 0].drop('Beschriftung', axis=1)\n",
    "anomalous_data.head()"
   ]
  },
  {
   "cell_type": "code",
   "execution_count": 234,
   "metadata": {},
   "outputs": [
    {
     "data": {
      "text/plain": [
       "(2079, 140)"
      ]
     },
     "execution_count": 234,
     "metadata": {},
     "output_type": "execute_result"
    }
   ],
   "source": [
    "anomalous_data.shape"
   ]
  },
  {
   "attachments": {},
   "cell_type": "markdown",
   "metadata": {},
   "source": [
    "### **3. Explorative Datenanalyse**"
   ]
  },
  {
   "cell_type": "code",
   "execution_count": 235,
   "metadata": {},
   "outputs": [
    {
     "data": {
      "image/png": "[encoded data removed]",
      "text/plain": [
       "<Figure size 640x480 with 1 Axes>"
      ]
     },
     "metadata": {},
     "output_type": "display_data"
    }
   ],
   "source": [
    "ekg_daten_normal = normal_data.iloc[1,:].values\n",
    "plt.plot(ekg_daten_normal)\n",
    "plt.title(\"Normales EKG eines Patienten\")\n",
    "plt.xlabel(\"Messungen\")\n",
    "plt.ylabel(\"Spannung (mV)\")\n",
    "plt.show()"
   ]
  },
  {
   "cell_type": "code",
   "execution_count": 236,
   "metadata": {},
   "outputs": [
    {
     "data": {
      "image/png": "[encoded data removed]",
      "text/plain": [
       "<Figure size 640x480 with 1 Axes>"
      ]
     },
     "metadata": {},
     "output_type": "display_data"
    }
   ],
   "source": [
    "ekg_daten_abnormal = anomalous_data.iloc[1,:].values\n",
    "plt.plot(ekg_daten_abnormal, color = 'red')\n",
    "plt.title(\"Abnormales EKG eines Patienten\")\n",
    "plt.xlabel(\"Messungen\")\n",
    "plt.ylabel(\"Spannung (mV)\")\n",
    "plt.show()"
   ]
  },
  {
   "attachments": {},
   "cell_type": "markdown",
   "metadata": {},
   "source": [
    "### **4. Modellentwicklung und Evaluierung**"
   ]
  },
  {
   "attachments": {},
   "cell_type": "markdown",
   "metadata": {},
   "source": [
    "*Für diesen Abschnitt fließen folgende Quellen und Hintergrundwissen ein. Zumal ist es die Arbeit als Data Scientist und die erste praktische Erfarung die man bzgl. Zeitreihen und LSTM-Modellen sammeln konnte. Ebenso die Kurse Deep Learning und NLP der FH SWF von Herr Prof. Gawron und die Quellen [4], [6] und [7] welche sich als sehr hilfreich erwiesen haben.*"
   ]
  },
  {
   "attachments": {},
   "cell_type": "markdown",
   "metadata": {},
   "source": [
    "**Der untere Code kann in 5 Schritten aufgeteilt werden:**\n",
    "\n",
    "**Schritt 1 - Skalierung der Daten:** \n",
    "\n",
    "Zunächst werden die Daten, die in der Variable \"normal_data\" und \"anomalous_data\" gespeichert sind, skaliert, um sicherzustellen, dass alle Datenpunkte im gleichen Bereich liegen. Dazu wird die Funktion \"MinMaxScaler\" aus dem Modul \"sklearn.preprocessing\" verwendet, die die Daten auf den Bereich zwischen 0 und 1 skaliert. Das Ergebnis der Skalierung wird in den Variablen \"scaled_normal_data\" und \"scaled_anomalous_data\" gespeichert.\n",
    "\n",
    "**Schritt 2 - Konvertierung in 3D-Tensor-Form:** \n",
    "\n",
    "Die normalen und anomalen Daten werden dann in die Form eines 3D-Tensors konvertiert, um sie für das Modell geeignet zu machen. Der 3D-Tensor hat die Form (Anzahl der Beobachtungen, Zeitschritte, Anzahl der Merkmale). Dazu wird die Funktion \"np.reshape\" verwendet, die die Daten in die gewünschte Form bringt. Das Ergebnis wird in den Variablen \"normal_data_3d\" und \"anomalous_data_3d\" gespeichert.\n",
    "\n",
    "**Schritt 3 - Konvertierung in 3D-Tensor-Form:** \n",
    "\n",
    "Aufteilung in Trainings- und Testdaten: Die normalen Daten werden in Trainings- und Testdaten aufgeteilt. Hierfür wird zuerst die Größe des Trainingsdatensatzes auf 80% der normalen Daten festgelegt. Der Trainingsdatensatz besteht aus den ersten 80% der normalen Daten, während der Testdatensatz aus den verbleibenden 20% der normalen Daten und allen anomalen Daten besteht. **Dies ist ein sehr entscheidender Punkt!**\n",
    "\n",
    "Die Trainingsdaten werden in der Variablen \"train_data\" gespeichert, während die Testdaten in der Variablen \"test_data\" gespeichert werden.\n",
    "\n",
    "**Schritt 4 - Definition des LSTM-Autoencoder-Modells:** \n",
    "\n",
    "Das Modell wird definiert, indem zunächst die Eingabeformate definiert werden, die der Form des 3D-Tensors entsprechen. Dann wird ein LSTM-Encoder-Layer definiert, der die Eingabe kodiert und einen latenten Vektor erzeugt. Der Decoder besteht aus zwei LSTM-Schichten und wiederholt den latenten Vektor, um die ursprüngliche Eingabe wiederherzustellen. Schließlich wird ein Ausgabelayer definiert, der die rekonstruierte Eingabe zurückgibt. Das Modell wird in der Variablen \"model\" gespeichert.\n",
    "\n",
    "**Schritt 5 - Kompilierung und Training des Modells:** \n",
    "\n",
    "Das Modell wird mit den normalen Trainingsdaten trainiert. Hierfür wird das Modell mit dem Optimierungsalgorithmus \"adam\" kompiliert und der mittlere quadratische Fehler (Mean Squared Error) als Verlustfunktion festgelegt. Das Modell wird dann für 120 Epochen trainiert, wobei ein Batch-Size von 32 verwendet wird. Die Testdaten werden als Validierungsdaten verwendet, um zu überprüfen, wie gut das Modell auf unbekannten Daten funktioniert. Die Trainings- und Validierungsverluste werden in der Variablen \"history\" gespeichert. Die Ausgabe der Trainingsschritte wird unterdrückt, indem \"verbose=0\" festgelegt wird."
   ]
  },
  {
   "cell_type": "code",
   "execution_count": 237,
   "metadata": {},
   "outputs": [],
   "source": [
    "\n",
    "scaler = MinMaxScaler()\n",
    "scaled_normal_data = scaler.fit_transform(normal_data)\n",
    "scaled_anomalous_data = scaler.transform(anomalous_data)\n",
    "\n",
    "\n",
    "normal_data_3d = np.reshape(scaled_normal_data, (scaled_normal_data.shape[0], 1, scaled_normal_data.shape[1]))\n",
    "anomalous_data_3d = np.reshape(scaled_anomalous_data, (scaled_anomalous_data.shape[0], 1, scaled_anomalous_data.shape[1]))\n",
    "\n",
    "\n",
    "train_size = int(len(normal_data_3d) * 0.8)\n",
    "train_data = normal_data_3d[:train_size, :, :]\n",
    "test_data = np.concatenate((normal_data_3d, anomalous_data_3d), axis=0)\n",
    "\n",
    "\n",
    "# LSTM-Autoencoder-Modell\n",
    "input_layer = Input(shape=(train_data.shape[1], train_data.shape[2]))\n",
    "encoder_layer = LSTM(128)(input_layer)\n",
    "decoder_layer = RepeatVector(train_data.shape[1])(encoder_layer)\n",
    "decoder_layer = LSTM(128, return_sequences=True)(decoder_layer)\n",
    "output_layer = LSTM(train_data.shape[2], return_sequences=True)(decoder_layer)\n",
    "\n",
    "model = Model(inputs=input_layer, outputs=output_layer)\n",
    "model.compile(optimizer='adam', loss='mse')\n",
    "\n",
    "history = model.fit(train_data, train_data, epochs=120, batch_size=32, validation_data=(test_data, test_data), verbose=0) #verbose um die Epoch Anzeige zu unterdrücken"
   ]
  },
  {
   "cell_type": "code",
   "execution_count": 238,
   "metadata": {},
   "outputs": [
    {
     "name": "stdout",
     "output_type": "stream",
     "text": [
      "Model: \"model_10\"\n",
      "_________________________________________________________________\n",
      " Layer (type)                Output Shape              Param #   \n",
      "=================================================================\n",
      " input_11 (InputLayer)       [(None, 1, 140)]          0         \n",
      "                                                                 \n",
      " lstm_30 (LSTM)              (None, 128)               137728    \n",
      "                                                                 \n",
      " repeat_vector_10 (RepeatVec  (None, 1, 128)           0         \n",
      " tor)                                                            \n",
      "                                                                 \n",
      " lstm_31 (LSTM)              (None, 1, 128)            131584    \n",
      "                                                                 \n",
      " lstm_32 (LSTM)              (None, 1, 140)            150640    \n",
      "                                                                 \n",
      "=================================================================\n",
      "Total params: 419,952\n",
      "Trainable params: 419,952\n",
      "Non-trainable params: 0\n",
      "_________________________________________________________________\n"
     ]
    }
   ],
   "source": [
    "model.summary()"
   ]
  },
  {
   "attachments": {},
   "cell_type": "markdown",
   "metadata": {},
   "source": [
    "- Die erste Zeile beschreibt die **Eingabeschicht/InputLayer** des Modells. Diese Schicht erwartet eine Eingabe mit der Form (None, 1, 140), wobei \"None\" für die Batch-Größe steht und 1 für die Länge der Sequenz (in diesem Fall nur eine Zeile). Die 140 gibt die Anzahl der Merkmale für jeden Zeitschritt an, auf den das Modell zugreift.\n",
    "\n",
    "- lstm_27 ist der Name des Layers und es handelt sich um einen **LSTM-Layer**. Die Output Shape des Layers ist (None, 128), was bedeutet, dass der Layer eine Ausgabeform mit einer Dimension von 128 hat. Der Wert 137728 in der Spalte **Param #** gibt die Anzahl der Parameter des Layers an. Diese Anzahl ergibt sich aus der Anzahl der Gewichte und Schwellenwerte des Layers, die während des Trainings des Modells optimiert werden.\n",
    "\n",
    "- **repeat_vector** ist eine Schicht, die dazu dient, den Ausgang des LSTM lstm_27 zu vervielfältigen, damit er an jeden Zeitschritt des folgenden LSTM lstm_28 weitergeleitet werden kann. Die Ausgabeform (None, 1, 128) bedeutet, dass die Schicht einen 3D-Tensor erzeugt, mit einer Batch-Größe von None (d.h. die Batch-Größe ist variabel), einer Zeitschrittlänge von 1 und einer Ausgabeform des LSTM lstm_27 von 128 Der Wert der Parameter ist 0, da keine Gewichte in dieser Schicht trainiert werden müssen.\n",
    "\n",
    "- Letzlich gibt es noch zwei weitere **LSTM-Layer** mit der obigen Anzahl an Parametern."
   ]
  },
  {
   "cell_type": "code",
   "execution_count": 239,
   "metadata": {},
   "outputs": [
    {
     "data": {
      "image/png": "[encoded data removed]",
      "text/plain": [
       "<Figure size 640x480 with 1 Axes>"
      ]
     },
     "metadata": {},
     "output_type": "display_data"
    }
   ],
   "source": [
    "plt.plot(history.history['loss'], label='Trainingsverlust')\n",
    "plt.plot(history.history['val_loss'], label='Validierungsverlust')\n",
    "plt.title('Model Loss')\n",
    "plt.xlabel('Epochen')\n",
    "plt.ylabel('Verlust')\n",
    "plt.legend()\n",
    "plt.show()"
   ]
  },
  {
   "attachments": {},
   "cell_type": "markdown",
   "metadata": {},
   "source": [
    "Dieser Code führt Vorhersagen auf dem Testdatensatz aus und berechnet den mittleren quadratischen Fehler (MSE = Mean Squared Error) zwischen den Originaldaten und den Vorhersagen. \n",
    "\n",
    "Dann wird eine Schwellenwert basierend auf den durchschnittlichen Rekonstruktionsfehlern für die normalen und anomalen Daten bestimmt. Die Signale, welche einen höheres MSE als der Schwellenwert haben, werden als Anomalie klassifiziert.\n",
    "\n",
    "Schließlich wird die Klassifizierungsleistung des Modells unter Verwendung des Klassifikationsreports von Scikit-learn evaluiert."
   ]
  },
  {
   "cell_type": "code",
   "execution_count": 240,
   "metadata": {},
   "outputs": [
    {
     "name": "stdout",
     "output_type": "stream",
     "text": [
      "157/157 [==============================] - 1s 1ms/step\n",
      "              precision    recall  f1-score   support\n",
      "\n",
      "      normal       0.88      0.98      0.93      2919\n",
      "   anomalous       0.97      0.81      0.88      2079\n",
      "\n",
      "    accuracy                           0.91      4998\n",
      "   macro avg       0.92      0.89      0.90      4998\n",
      "weighted avg       0.92      0.91      0.91      4998\n",
      "\n"
     ]
    }
   ],
   "source": [
    "# Vorhersagen auf dem Testdatensatz durch\n",
    "test_predictions = model.predict(test_data)\n",
    "\n",
    "# Berechnen des mittleren quadratischen Fehler (MSE) zwischen den Originaldaten und den Vorhersagen\n",
    "mse = np.mean(np.power(test_data - test_predictions, 2), axis=2)\n",
    "\n",
    "# Berechnen des durchschnittliche Rekonstruktionsfehlers für die normalen und anomalen Daten\n",
    "normal_mse = np.mean(mse[:len(normal_data)], axis=1)\n",
    "anomalous_mse = np.mean(mse[len(normal_data):], axis=1)\n",
    "\n",
    "# Bestimmen eines Schwellenwerts, ab dem ein Signal als anomal eingestuft werden kann\n",
    "threshold = 0.5 * (normal_mse.mean() + anomalous_mse.mean())\n",
    "\n",
    "# Labeln als normal oder anomal basierend auf dem Schwellenwert\n",
    "test_labels = np.where(mse >= threshold, 1, 0)\n",
    "\n",
    "# Auswerten der Klassifizierungsleistung\n",
    "from sklearn.metrics import classification_report\n",
    "print(classification_report(np.concatenate((np.zeros(len(normal_data)), np.ones(len(anomalous_data)))), test_labels, target_names=['normal', 'anomalous']))\n"
   ]
  },
  {
   "attachments": {},
   "cell_type": "markdown",
   "metadata": {},
   "source": [
    "Unsere Präzisionsrate hier von 0,88 für \"normal\" bedeutet, dass das Modell in 88% der Fälle korrekt vorhersagte, dass die Daten normal waren. Unser Recall gibt hier an, dass tatsächlich positive Fälle (in diesem Fall Anomalien) zu erkennen waren. Der F1-Score ist der der gewichtete Durchschnitt von Precision und Recall, der die Ausgewogenheit zwischen beiden misst. Eine F1-Score von 0,93 für \"normal\" und 0,88 für \"anomal\" zeigt, dass das Modell insgesamt eine gute Leistung erbracht hat, aber bei der Erkennung von Anomalien etwas schlechter war."
   ]
  },
  {
   "cell_type": "code",
   "execution_count": 243,
   "metadata": {},
   "outputs": [
    {
     "data": {
      "image/png": "[encoded data removed]",
      "text/plain": [
       "<Figure size 640x480 with 1 Axes>"
      ]
     },
     "metadata": {},
     "output_type": "display_data"
    }
   ],
   "source": [
    "# Plotten der Verteilung der Rekonstruktionsfehler für normale und anomale Daten\n",
    "\n",
    "plt.hist(normal_mse, bins=50, label='Normal')\n",
    "plt.hist(anomalous_mse, bins=50, label='Anomal')\n",
    "plt.axvline(x=threshold, color='r', linestyle='--', label='Threshold')\n",
    "plt.xlabel('Reconstruction error')\n",
    "plt.ylabel('Frequency')\n",
    "plt.legend()\n",
    "plt.show()"
   ]
  },
  {
   "cell_type": "code",
   "execution_count": 250,
   "metadata": {},
   "outputs": [
    {
     "name": "stdout",
     "output_type": "stream",
     "text": [
      "Der Schwellenwert für den normalen und anomalen LSTM-Autoencoder liegt bei 0.0052\n"
     ]
    }
   ],
   "source": [
    "print(\"Der Schwellenwert für den normalen und anomalen LSTM-Autoencoder liegt bei {:.4f}\".format(threshold))"
   ]
  },
  {
   "attachments": {},
   "cell_type": "markdown",
   "metadata": {},
   "source": [
    "Dies bedeutet, dass alle Rekonstruktionsfehler, die größer als dieser Schwellenwert sind, somit als anomale Daten eingestuft werden können. "
   ]
  },
  {
   "attachments": {},
   "cell_type": "markdown",
   "metadata": {},
   "source": [
    "### **Literaturverzeichnis**"
   ]
  },
  {
   "attachments": {},
   "cell_type": "markdown",
   "metadata": {},
   "source": [
    "[1] https://www.kaggle.com/code/lionsai/p2-autoencoder-for-anomaly-detection-in-ecg/input  [28.03.2023] \n",
    "\n",
    "[2] https://scikit-learn.org/stable/ [28.03.23]  \n",
    "\n",
    "[3] – Understanding LSTM – a tutorial into Long Short-Term Memory Recurrent Neural Networks \n",
    "\n",
    "Ralf C. Staudemeyer Faculty of Computer Science Schmalkalden University ofApplied Sciences, Germany \n",
    "\n",
    "[4] https://towardsdatascience.com/step-by-step-understanding-lstm-autoencoder-layers-ffab055b6352 [30.03.2023] \n",
    "\n",
    "[5] https://en.wikipedia.org/wiki/Artificial_neural_network [30.03.2023]  \n",
    "\n",
    "[6] Udemy Kurs - Der große Deep Learning Kurs mit Keras und TensorFlow 2 [30.03.2023]  \n",
    "\n",
    "[7] https://www.datacamp.com/tutorial/tutorial-for-recurrent-neural-network [30.03.2023] \n",
    "\n",
    "[8] https://de.wikipedia.org/wiki/Autoencoder [30.03.2023]\n",
    "\n",
    "[9] https://www.datacamp.com/tutorial/autoencoder-keras-tutorial [30.03.2023]"
   ]
  }
 ],
 "metadata": {
  "kernelspec": {
   "display_name": "deepL",
   "language": "python",
   "name": "python3"
  },
  "language_info": {
   "codemirror_mode": {
    "name": "ipython",
    "version": 3
   },
   "file_extension": ".py",
   "mimetype": "text/x-python",
   "name": "python",
   "nbconvert_exporter": "python",
   "pygments_lexer": "ipython3",
   "version": "3.10.10"
  },
  "orig_nbformat": 4,
  "vscode": {
   "interpreter": {
    "hash": "06f759d99f69142220b8fcf09c6ad83ce10b67fd27de510e1b7840f9bd7dc557"
   }
  }
 },
 "nbformat": 4,
 "nbformat_minor": 2
}
